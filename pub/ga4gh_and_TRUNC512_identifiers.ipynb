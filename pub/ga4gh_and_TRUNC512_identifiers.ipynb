{
  "nbformat": 4,
  "nbformat_minor": 0,
  "metadata": {
    "colab": {
      "name": "ga4gh and TRUNC512 identifiers.ipynb",
      "provenance": [],
      "collapsed_sections": []
    },
    "kernelspec": {
      "name": "python3",
      "display_name": "Python 3"
    }
  },
  "cells": [
    {
      "cell_type": "code",
      "metadata": {
        "id": "4NGNYMqdydGo",
        "colab_type": "code",
        "colab": {}
      },
      "source": [
        "# Importing the 3 libraries we need\n",
        "import base64\n",
        "import hashlib\n",
        "import binascii"
      ],
      "execution_count": 0,
      "outputs": []
    },
    {
      "cell_type": "code",
      "metadata": {
        "id": "nGmff8YsygCE",
        "colab_type": "code",
        "colab": {}
      },
      "source": [
        "# All required methods for translating sequences to the **ga4gh identifier** \n",
        "# space and the **now retired** TRUNC512 scheme\n",
        "\n",
        "def trunc512_digest(seq, offset=24):\n",
        "    digest = hashlib.sha512(seq.encode('utf-8')).digest()\n",
        "    hex_digest = binascii.hexlify(digest[:offset])\n",
        "    return hex_digest.decode(\"utf-8\") \n",
        "\n",
        "def ga4gh_digest(seq, digest_size=24):\n",
        "    # b64 encoding results in 4/3 size expansion of data and padded if\n",
        "    # not multiple of 3, which doesn't make sense for this use\n",
        "    assert digest_size % 3 == 0, \"digest size must be multiple of 3\"\n",
        "    digest = hashlib.sha512(seq.encode('utf-8')).digest()\n",
        "    return _ga4gh_format(digest, digest_size)\n",
        "\n",
        "def _ga4gh_format(digest, digest_size=24):\n",
        "    tdigest_b64us = base64.urlsafe_b64encode(digest[:digest_size])\n",
        "    return \"ga4gh:SQ.{}\".format(tdigest_b64us.decode(\"utf-8\"))\n",
        "\n",
        "def ga4gh_to_trunc512(vmc):\n",
        "    base64_strip = vmc.replace(\"ga4gh:SQ.\",\"\")\n",
        "    digest = base64.urlsafe_b64decode(base64_strip)\n",
        "    hex_digest = binascii.hexlify(digest)\n",
        "    return hex_digest.decode(\"utf-8\") \n",
        "\n",
        "def trunc512_to_ga4gh(trunc512):\n",
        "    digest_length = len(trunc512)*2\n",
        "    digest = binascii.unhexlify(trunc512)\n",
        "    return _ga4gh_format(digest, digest_length)"
      ],
      "execution_count": 0,
      "outputs": []
    },
    {
      "cell_type": "markdown",
      "metadata": {
        "id": "3xOb208fzZwR",
        "colab_type": "text"
      },
      "source": [
        "Output from the various functions. We show the creation of the TRUNC512 digest, the ga4gh identifier and how you can move between the two schemes with minimal effort."
      ]
    },
    {
      "cell_type": "code",
      "metadata": {
        "id": "T3TbPlZmyj0e",
        "colab_type": "code",
        "outputId": "9d75e01d-56fc-42da-ca68-884c39a95cb6",
        "colab": {
          "base_uri": "https://localhost:8080/",
          "height": 136
        }
      },
      "source": [
        "print(\"TRUNC512 digest: {}\".format(trunc512_digest('ACGT')))\n",
        "print(\"TRUNC512 digest +2 bits: {}\".format(trunc512_digest('ACGT', 26)))\n",
        "print(\"\")\n",
        "print(\"ga4gh identifier: {}\".format(ga4gh_digest('ACGT')))\n",
        "print(\"TRUNC512 {} can be translated to {}\".format(trunc512_digest('ACGT'), trunc512_to_ga4gh(trunc512_digest('ACGT'))))\n",
        "print(\"\")\n",
        "print(\"Empty digest: {}\".format(ga4gh_digest(\"\")))"
      ],
      "execution_count": 21,
      "outputs": [
        {
          "output_type": "stream",
          "text": [
            "TRUNC512 digest: 68a178f7c740c5c240aa67ba41843b119d3bf9f8b0f0ac36\n",
            "TRUNC512 digest +2 bits: 68a178f7c740c5c240aa67ba41843b119d3bf9f8b0f0ac36cf70\n",
            "\n",
            "ga4gh identifier: ga4gh:SQ.aKF498dAxcJAqme6QYQ7EZ07-fiw8Kw2\n",
            "TRUNC512 68a178f7c740c5c240aa67ba41843b119d3bf9f8b0f0ac36 can be translated to ga4gh:SQ.aKF498dAxcJAqme6QYQ7EZ07-fiw8Kw2\n",
            "\n",
            "Empty digest: ga4gh:SQ.z4PhNX7vuL3xVChQ1m2AB9Yg5AULVxXc\n"
          ],
          "name": "stdout"
        }
      ]
    }
  ]
}